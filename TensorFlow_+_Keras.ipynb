{
  "nbformat": 4,
  "nbformat_minor": 0,
  "metadata": {
    "colab": {
      "provenance": []
    },
    "kernelspec": {
      "name": "python3",
      "display_name": "Python 3"
    },
    "language_info": {
      "name": "python"
    }
  },
  "cells": [
    {
      "cell_type": "code",
      "execution_count": 71,
      "metadata": {
        "colab": {
          "base_uri": "https://localhost:8080/"
        },
        "id": "ipZQZwtrO_ge",
        "outputId": "5400a4eb-c209-4a35-a5f2-bf24c0033516"
      },
      "outputs": [
        {
          "output_type": "stream",
          "name": "stdout",
          "text": [
            "tensorflow: 2.15.0\n"
          ]
        }
      ],
      "source": [
        "import tensorflow as tf\n",
        "from tensorflow import keras\n",
        "from tensorflow.keras import layers\n",
        "print(f\"tensorflow: {tf.__version__}\")\n"
      ]
    },
    {
      "cell_type": "code",
      "source": [
        "import matplotlib.pyplot as plt\n",
        "import numpy as np\n",
        "import random"
      ],
      "metadata": {
        "id": "NdILfP7qSvuV"
      },
      "execution_count": 72,
      "outputs": []
    },
    {
      "cell_type": "markdown",
      "source": [
        "#1. LOAD DATA"
      ],
      "metadata": {
        "id": "EDF-qc1gQZEq"
      }
    },
    {
      "cell_type": "code",
      "source": [
        "(X_train, y_train) , (X_test, y_test) =  keras.datasets.fashion_mnist.load_data()"
      ],
      "metadata": {
        "id": "n4iyg0o7QCn6"
      },
      "execution_count": 73,
      "outputs": []
    },
    {
      "cell_type": "code",
      "source": [
        "type(X_train), type(y_train)"
      ],
      "metadata": {
        "colab": {
          "base_uri": "https://localhost:8080/"
        },
        "id": "8zGJsPfZRCP6",
        "outputId": "6182bea3-907b-485b-a1cf-53ca41de8133"
      },
      "execution_count": 74,
      "outputs": [
        {
          "output_type": "execute_result",
          "data": {
            "text/plain": [
              "(numpy.ndarray, numpy.ndarray)"
            ]
          },
          "metadata": {},
          "execution_count": 74
        }
      ]
    },
    {
      "cell_type": "code",
      "source": [
        "X_train.shape, y_train.shape"
      ],
      "metadata": {
        "colab": {
          "base_uri": "https://localhost:8080/"
        },
        "id": "p6x4WzQlRIWM",
        "outputId": "d07b5723-2c50-4475-a800-9ef62ea6f4cc"
      },
      "execution_count": 75,
      "outputs": [
        {
          "output_type": "execute_result",
          "data": {
            "text/plain": [
              "((60000, 28, 28), (60000,))"
            ]
          },
          "metadata": {},
          "execution_count": 75
        }
      ]
    },
    {
      "cell_type": "markdown",
      "source": [
        "cấu trúc của x train kiểu int"
      ],
      "metadata": {
        "id": "Q7r5KHxyRRpk"
      }
    },
    {
      "cell_type": "code",
      "source": [
        "X_train.dtype"
      ],
      "metadata": {
        "colab": {
          "base_uri": "https://localhost:8080/"
        },
        "id": "_hsEqCWORQz3",
        "outputId": "74ed359d-dd13-4c03-c12c-1f8e4c07960a"
      },
      "execution_count": 76,
      "outputs": [
        {
          "output_type": "execute_result",
          "data": {
            "text/plain": [
              "dtype('uint8')"
            ]
          },
          "metadata": {},
          "execution_count": 76
        }
      ]
    },
    {
      "cell_type": "code",
      "source": [
        "class_name = [\"T-shirt\", \"trouser\", \"PullOver\", \"Dress\",\"Coat\", \"Sandan\",\n",
        "              \"Shirt\",  \"Sneaker\", \"Bag\", \"Anker Boot\"]\n",
        "class_num = len(class_name)\n",
        "class_name[y_train[0]]"
      ],
      "metadata": {
        "colab": {
          "base_uri": "https://localhost:8080/",
          "height": 36
        },
        "id": "8yTD3bD9RpXh",
        "outputId": "af0801f2-e951-43de-e3d5-f4e7dec1596f"
      },
      "execution_count": 77,
      "outputs": [
        {
          "output_type": "execute_result",
          "data": {
            "text/plain": [
              "'Anker Boot'"
            ],
            "application/vnd.google.colaboratory.intrinsic+json": {
              "type": "string"
            }
          },
          "metadata": {},
          "execution_count": 77
        }
      ]
    },
    {
      "cell_type": "code",
      "source": [
        "plt.imshow(X_train[0])"
      ],
      "metadata": {
        "colab": {
          "base_uri": "https://localhost:8080/",
          "height": 449
        },
        "id": "8HHkeWyySXdw",
        "outputId": "86545fcf-22f6-4802-de9e-8b328dfc1f29"
      },
      "execution_count": 78,
      "outputs": [
        {
          "output_type": "execute_result",
          "data": {
            "text/plain": [
              "<matplotlib.image.AxesImage at 0x7fe00e5f5150>"
            ]
          },
          "metadata": {},
          "execution_count": 78
        },
        {
          "output_type": "display_data",
          "data": {
            "text/plain": [
              "<Figure size 640x480 with 1 Axes>"
            ],
            "image/png": "[encoded data removed]"
          },
          "metadata": {}
        }
      ]
    },
    {
      "cell_type": "markdown",
      "source": [
        "hàm in ra ngẫu nhiên 8 ảnh trong tập train\n",
        "gôm 2 hàng 4 cột -> 8 phần tử\n",
        "len_x là lấy ra chiều dài phần tử, trong trường hợp này là 60000\n",
        "dùng vòng for duyệt qua ncol và nrow  và in ra"
      ],
      "metadata": {
        "id": "EKWw6P4VZaUG"
      }
    },
    {
      "cell_type": "code",
      "source": [
        "def plt_data(x_data: np.ndarray,y_data: np.ndarray) -> None:\n",
        "  nrow, ncol = 2,4\n",
        "  fig, axes = plt.subplots(nrow, ncol, figsize = (8, 4))\n",
        "  len_x = x_data.shape[0]\n",
        "  for idx in range (nrow* ncol):\n",
        "    ax = axes[idx // ncol, idx % ncol]\n",
        "    img_idx = random.randint(0, len_x)\n",
        "    ax.imshow(x_data[img_idx], cmap = 'gray')\n",
        "    #xóa các chữ số\n",
        "    ax.set(xticks=[], yticks=[])\n",
        "    #in ra gọn hơn\n",
        "    #lấy tên của nhãn tương ứng\n",
        "    true_labe_str = f\"True: {class_name[y_data[img_idx]]}\"\n",
        "    ax.set_xlabel(true_labe_str, color = 'green', fontsize = 12)\n",
        "\n",
        "  plt.tight_layout()\n",
        "  plt.show()\n",
        "\n",
        "plt_data(X_train, y_train)\n"
      ],
      "metadata": {
        "colab": {
          "base_uri": "https://localhost:8080/",
          "height": 409
        },
        "id": "mU0ITcBJS-2q",
        "outputId": "be41ec93-2efb-4e56-e830-adddcfa0b2b9"
      },
      "execution_count": 79,
      "outputs": [
        {
          "output_type": "display_data",
          "data": {
            "text/plain": [
              "<Figure size 800x400 with 8 Axes>"
            ],
            "image/png": "[encoded data removed]"
          },
          "metadata": {}
        }
      ]
    },
    {
      "cell_type": "markdown",
      "source": [
        "#2.Image -preprocessing\n",
        "chuyển các ảnh từ 0-255 thành 0-1\n",
        "\n",
        "chuyển data từ int sang float\n"
      ],
      "metadata": {
        "id": "SzuH7wYUcTgl"
      }
    },
    {
      "cell_type": "code",
      "source": [
        "X_train = X_train.astype(np.float32) / 255\n",
        "X_test = X_test.astype(np.float32) / 255\n"
      ],
      "metadata": {
        "id": "AzQZ6gYfcRej"
      },
      "execution_count": 80,
      "outputs": []
    },
    {
      "cell_type": "code",
      "source": [
        "X_train.shape, X_test.dtype"
      ],
      "metadata": {
        "colab": {
          "base_uri": "https://localhost:8080/"
        },
        "id": "rqWHSc61dAZT",
        "outputId": "48624ab1-3351-405f-8fb9-e95ff03ae0c5"
      },
      "execution_count": 81,
      "outputs": [
        {
          "output_type": "execute_result",
          "data": {
            "text/plain": [
              "((60000, 28, 28), dtype('float32'))"
            ]
          },
          "metadata": {},
          "execution_count": 81
        }
      ]
    },
    {
      "cell_type": "markdown",
      "source": [
        "X_train ở trên đang là 3 kênh, 60000 bức ảnh, chiều rộng 28, dài 28, nhưng train cần 4 kênh, thêm kênh màu nữa\n"
      ],
      "metadata": {
        "id": "3_3qgSiLd_X4"
      }
    },
    {
      "cell_type": "code",
      "source": [
        "X_train = np.expand_dims(X_train, axis=-1)\n",
        "X_test = np.expand_dims(X_test, axis=-1)"
      ],
      "metadata": {
        "id": "04OakO__d4oO"
      },
      "execution_count": 82,
      "outputs": []
    },
    {
      "cell_type": "code",
      "source": [
        "X_train.shape, X_test.shape"
      ],
      "metadata": {
        "colab": {
          "base_uri": "https://localhost:8080/"
        },
        "id": "yvUKwRQpeXPa",
        "outputId": "0835dcc0-f529-4370-b812-b830bfe8d5c5"
      },
      "execution_count": 83,
      "outputs": [
        {
          "output_type": "execute_result",
          "data": {
            "text/plain": [
              "((60000, 28, 28, 1), (10000, 28, 28, 1))"
            ]
          },
          "metadata": {},
          "execution_count": 83
        }
      ]
    },
    {
      "cell_type": "markdown",
      "source": [
        "Chuyển lable từ dạng 0,1,2,3,4... sang dạng mảng\n",
        "ví dụ số 7 là [0,0,0,0,0,0,0,1,0,0,0]"
      ],
      "metadata": {
        "id": "pqn_06QMextY"
      }
    },
    {
      "cell_type": "code",
      "source": [
        "y_train_label = keras.utils.to_categorical(y_train, class_num)\n",
        "y_test_label = keras.utils.to_categorical(y_test, class_num)\n"
      ],
      "metadata": {
        "id": "KagH3wzvev5-"
      },
      "execution_count": 84,
      "outputs": []
    },
    {
      "cell_type": "code",
      "source": [
        "#test sau khi chuyển sang mảng\n",
        "y_train[0], y_train_label[0]"
      ],
      "metadata": {
        "colab": {
          "base_uri": "https://localhost:8080/"
        },
        "id": "cLr7paP-frSg",
        "outputId": "8b93b9fb-c7b8-4d4e-ce06-2e0fd2b649e9"
      },
      "execution_count": 85,
      "outputs": [
        {
          "output_type": "execute_result",
          "data": {
            "text/plain": [
              "(9, array([0., 0., 0., 0., 0., 0., 0., 0., 0., 1.], dtype=float32))"
            ]
          },
          "metadata": {},
          "execution_count": 85
        }
      ]
    },
    {
      "cell_type": "markdown",
      "source": [
        "#3. Triển khai ANN\n"
      ],
      "metadata": {
        "id": "s7NDUwSOf7ZC"
      }
    },
    {
      "cell_type": "code",
      "source": [
        "input_shape = (28,28,1)"
      ],
      "metadata": {
        "id": "urdM_XnigkFu"
      },
      "execution_count": 86,
      "outputs": []
    },
    {
      "cell_type": "code",
      "source": [
        "model = keras.models.Sequential([\n",
        "    layers.Flatten(input_shape = input_shape), #chuyển mảng từ [28,28,1] thành 28*28*1 = 784\n",
        "    layers.Dense(512, activation='relu'),\n",
        "    layers.Dense(256, activation='relu'),\n",
        "    layers.Dense(class_num, activation='softmax')\n",
        "])\n",
        "model.summary()"
      ],
      "metadata": {
        "colab": {
          "base_uri": "https://localhost:8080/"
        },
        "id": "mA85_KOzf_c2",
        "outputId": "4d9fe7f3-4d0e-4f16-c9e3-9b1846c6fabf"
      },
      "execution_count": 87,
      "outputs": [
        {
          "output_type": "stream",
          "name": "stdout",
          "text": [
            "Model: \"sequential_2\"\n",
            "_________________________________________________________________\n",
            " Layer (type)                Output Shape              Param #   \n",
            "=================================================================\n",
            " flatten_3 (Flatten)         (None, 784)               0         \n",
            "                                                                 \n",
            " dense_4 (Dense)             (None, 512)               401920    \n",
            "                                                                 \n",
            " dense_5 (Dense)             (None, 256)               131328    \n",
            "                                                                 \n",
            " dense_6 (Dense)             (None, 10)                2570      \n",
            "                                                                 \n",
            "=================================================================\n",
            "Total params: 535818 (2.04 MB)\n",
            "Trainable params: 535818 (2.04 MB)\n",
            "Non-trainable params: 0 (0.00 Byte)\n",
            "_________________________________________________________________\n"
          ]
        }
      ]
    },
    {
      "cell_type": "code",
      "source": [
        "model.compile(optimizer='rmsprop',\n",
        "              loss='categorical_crossentropy',\n",
        "              metrics='accuracy'\n",
        "              )"
      ],
      "metadata": {
        "id": "PORsVoLNi1x4"
      },
      "execution_count": 88,
      "outputs": []
    },
    {
      "cell_type": "code",
      "source": [
        "epochs=10\n",
        "batch_size = 128\n",
        "history = model.fit(X_train, y_train_label,\n",
        "          epochs = epochs,\n",
        "          batch_size = batch_size,\n",
        "          validation_split = 0.1)\n"
      ],
      "metadata": {
        "colab": {
          "base_uri": "https://localhost:8080/"
        },
        "id": "wi-GRdE8jemS",
        "outputId": "4d44797c-7bf4-4295-eaea-16651b27b8df"
      },
      "execution_count": 90,
      "outputs": [
        {
          "output_type": "stream",
          "name": "stdout",
          "text": [
            "Epoch 1/10\n",
            "422/422 [==============================] - 13s 32ms/step - loss: 0.2194 - accuracy: 0.9173 - val_loss: 0.3220 - val_accuracy: 0.8912\n",
            "Epoch 2/10\n",
            "422/422 [==============================] - 13s 31ms/step - loss: 0.2140 - accuracy: 0.9192 - val_loss: 0.3431 - val_accuracy: 0.8932\n",
            "Epoch 3/10\n",
            "422/422 [==============================] - 6s 15ms/step - loss: 0.2071 - accuracy: 0.9201 - val_loss: 0.3816 - val_accuracy: 0.8820\n",
            "Epoch 4/10\n",
            "422/422 [==============================] - 8s 18ms/step - loss: 0.1993 - accuracy: 0.9238 - val_loss: 0.3912 - val_accuracy: 0.8722\n",
            "Epoch 5/10\n",
            "422/422 [==============================] - 6s 14ms/step - loss: 0.1933 - accuracy: 0.9275 - val_loss: 0.4086 - val_accuracy: 0.8833\n",
            "Epoch 6/10\n",
            "422/422 [==============================] - 8s 19ms/step - loss: 0.1912 - accuracy: 0.9269 - val_loss: 0.4339 - val_accuracy: 0.8830\n",
            "Epoch 7/10\n",
            "422/422 [==============================] - 6s 14ms/step - loss: 0.1846 - accuracy: 0.9301 - val_loss: 0.3906 - val_accuracy: 0.8845\n",
            "Epoch 8/10\n",
            "422/422 [==============================] - 8s 18ms/step - loss: 0.1795 - accuracy: 0.9311 - val_loss: 0.3869 - val_accuracy: 0.8898\n",
            "Epoch 9/10\n",
            "422/422 [==============================] - 7s 17ms/step - loss: 0.1756 - accuracy: 0.9326 - val_loss: 0.4041 - val_accuracy: 0.8862\n",
            "Epoch 10/10\n",
            "422/422 [==============================] - 8s 20ms/step - loss: 0.1712 - accuracy: 0.9355 - val_loss: 0.5873 - val_accuracy: 0.8578\n"
          ]
        }
      ]
    },
    {
      "cell_type": "code",
      "source": [
        "history_dict = history.history"
      ],
      "metadata": {
        "id": "lXWReGJUtjZn"
      },
      "execution_count": 91,
      "outputs": []
    },
    {
      "cell_type": "code",
      "source": [
        "history_dict.keys()"
      ],
      "metadata": {
        "colab": {
          "base_uri": "https://localhost:8080/"
        },
        "id": "ZcGWOCZatsL-",
        "outputId": "b1e28842-acf6-47f4-ec4a-795b9a314111"
      },
      "execution_count": 92,
      "outputs": [
        {
          "output_type": "execute_result",
          "data": {
            "text/plain": [
              "dict_keys(['loss', 'accuracy', 'val_loss', 'val_accuracy'])"
            ]
          },
          "metadata": {},
          "execution_count": 92
        }
      ]
    },
    {
      "cell_type": "code",
      "source": [
        "train_loss, val_loss = history_dict['loss'], history_dict['val_loss']\n",
        "accuracy, val_accuracy = history_dict['accuracy'], history_dict['val_accuracy']"
      ],
      "metadata": {
        "id": "USnGUVx5t0g3"
      },
      "execution_count": 93,
      "outputs": []
    },
    {
      "cell_type": "code",
      "source": [
        "fig, (ax1, ax2) = plt.subplots(1,2,figsize = (15,5))\n",
        "epoch_runs = [i+1 for i in range(epochs)]\n",
        "\n",
        "ax1.plot(epoch_runs, train_loss, label='trainng loss')\n",
        "ax1.plot(epoch_runs, val_loss, label='val loss', marker = 'o')\n",
        "ax1.set(title='training loss', xlabel='epoch', ylabel='loss')\n",
        "ax1.legend() #hiển thị ghi chú góc trên bên trái\n",
        "\n",
        "\n",
        "\n",
        "ax2.plot(epoch_runs, accuracy, label='acurracy')\n",
        "ax2.plot(epoch_runs, val_accuracy, label='val_accuracy', marker = 'o')\n",
        "ax2.set(title='Accuracy', xlabel='epoch', ylabel='accuracy')\n",
        "ax2.legend() #hiển thị ghi chú góc trên bên phải\n",
        "\n",
        "\n",
        "plt.show()"
      ],
      "metadata": {
        "colab": {
          "base_uri": "https://localhost:8080/",
          "height": 487
        },
        "id": "pbBPeTZLuSvB",
        "outputId": "c13fe751-3029-48c3-a192-881aeb0c0d9a"
      },
      "execution_count": 94,
      "outputs": [
        {
          "output_type": "display_data",
          "data": {
            "text/plain": [
              "<Figure size 1500x500 with 2 Axes>"
            ],
            "image/png": "[encoded data removed]"
          },
          "metadata": {}
        }
      ]
    },
    {
      "cell_type": "markdown",
      "source": [
        "#4.Model Evaluation"
      ],
      "metadata": {
        "id": "D9OAQ6gLxAjg"
      }
    },
    {
      "cell_type": "code",
      "source": [
        "score = model.evaluate(X_test, y_test_label)"
      ],
      "metadata": {
        "colab": {
          "base_uri": "https://localhost:8080/"
        },
        "id": "xKlpcZCoxEA_",
        "outputId": "c2c01eb0-7680-4414-ec76-b510622b4f27"
      },
      "execution_count": 95,
      "outputs": [
        {
          "output_type": "stream",
          "name": "stdout",
          "text": [
            "313/313 [==============================] - 2s 5ms/step - loss: 0.6274 - accuracy: 0.8497\n"
          ]
        }
      ]
    },
    {
      "cell_type": "code",
      "source": [
        "print(f\"test los: {score[0]:.4f}\")\n",
        "print(f\"test accuracy: {score[1]:.4f}\")"
      ],
      "metadata": {
        "colab": {
          "base_uri": "https://localhost:8080/"
        },
        "id": "0msiQKhYxObH",
        "outputId": "b5e88d44-52d4-4faa-f8a4-670523112a90"
      },
      "execution_count": 96,
      "outputs": [
        {
          "output_type": "stream",
          "name": "stdout",
          "text": [
            "test los: 0.6274\n",
            "test accuracy: 0.8497\n"
          ]
        }
      ]
    },
    {
      "cell_type": "markdown",
      "source": [
        "#5. predict\n"
      ],
      "metadata": {
        "id": "_qWrLmj6yq-Y"
      }
    },
    {
      "cell_type": "markdown",
      "source": [
        "lấy ra 3 phần tử để test"
      ],
      "metadata": {
        "id": "JKXkdXdBzSZ6"
      }
    },
    {
      "cell_type": "code",
      "source": [
        "X_example = X_test[0:3]\n",
        "y_pre = model.predict(X_example)"
      ],
      "metadata": {
        "colab": {
          "base_uri": "https://localhost:8080/"
        },
        "id": "7CkZrSFpys-O",
        "outputId": "b12c86e9-f4b5-4684-c5f1-4207d179cb7e"
      },
      "execution_count": 97,
      "outputs": [
        {
          "output_type": "stream",
          "name": "stdout",
          "text": [
            "1/1 [==============================] - 0s 107ms/step\n"
          ]
        }
      ]
    },
    {
      "cell_type": "markdown",
      "source": [
        "hiển thị sau khi dự đoán, nhưng nó vẫn ở dạng mảng"
      ],
      "metadata": {
        "id": "KpsoZE_KzVlv"
      }
    },
    {
      "cell_type": "code",
      "source": [
        "y_pre"
      ],
      "metadata": {
        "colab": {
          "base_uri": "https://localhost:8080/"
        },
        "id": "pJLFH5bGy71Y",
        "outputId": "b5eb8425-9f96-4d2b-e8c5-417bc33e8869"
      },
      "execution_count": 98,
      "outputs": [
        {
          "output_type": "execute_result",
          "data": {
            "text/plain": [
              "array([[1.3116766e-14, 2.1388032e-12, 2.5390686e-12, 2.7324020e-11,\n",
              "        1.6052497e-10, 2.4447600e-10, 1.1163355e-10, 1.2870063e-06,\n",
              "        4.0554735e-14, 9.9999869e-01],\n",
              "       [3.1664385e-05, 2.4647656e-21, 9.9762648e-01, 4.1188647e-14,\n",
              "        6.0568073e-06, 1.2918140e-13, 2.3358345e-03, 1.2545834e-14,\n",
              "        4.5891254e-15, 4.0288097e-15],\n",
              "       [4.3876649e-24, 1.0000000e+00, 9.6136167e-36, 1.3763421e-19,\n",
              "        7.7782099e-31, 1.8553565e-29, 4.7458259e-24, 5.2274869e-30,\n",
              "        5.9444285e-32, 3.9914792e-32]], dtype=float32)"
            ]
          },
          "metadata": {},
          "execution_count": 98
        }
      ]
    },
    {
      "cell_type": "code",
      "source": [
        "y_pre.round(3)"
      ],
      "metadata": {
        "colab": {
          "base_uri": "https://localhost:8080/"
        },
        "id": "Jr8ICf4g7LrI",
        "outputId": "8815a56f-fb02-42f5-9b3a-fbbd76c68849"
      },
      "execution_count": 106,
      "outputs": [
        {
          "output_type": "execute_result",
          "data": {
            "text/plain": [
              "array([[0.   , 0.   , 0.   , 0.   , 0.   , 0.   , 0.   , 0.   , 0.   ,\n",
              "        1.   ],\n",
              "       [0.   , 0.   , 0.998, 0.   , 0.   , 0.   , 0.002, 0.   , 0.   ,\n",
              "        0.   ],\n",
              "       [0.   , 1.   , 0.   , 0.   , 0.   , 0.   , 0.   , 0.   , 0.   ,\n",
              "        0.   ]], dtype=float32)"
            ]
          },
          "metadata": {},
          "execution_count": 106
        }
      ]
    },
    {
      "cell_type": "code",
      "source": [
        "prediction = np.argmax(y_pre, axis = 1)\n",
        "prediction"
      ],
      "metadata": {
        "colab": {
          "base_uri": "https://localhost:8080/"
        },
        "id": "KGocB2_xzfis",
        "outputId": "3ce3573f-5260-4d5f-eb58-f09cf3b5f1eb"
      },
      "execution_count": 107,
      "outputs": [
        {
          "output_type": "execute_result",
          "data": {
            "text/plain": [
              "array([9, 2, 1])"
            ]
          },
          "metadata": {},
          "execution_count": 107
        }
      ]
    },
    {
      "cell_type": "code",
      "source": [
        "[class_name[pred] for pred in prediction]"
      ],
      "metadata": {
        "colab": {
          "base_uri": "https://localhost:8080/"
        },
        "id": "US5WiCV4zrNb",
        "outputId": "68f56b55-ebee-4429-8f67-9e61d40b721e"
      },
      "execution_count": 100,
      "outputs": [
        {
          "output_type": "execute_result",
          "data": {
            "text/plain": [
              "['Anker Boot', 'PullOver', 'trouser']"
            ]
          },
          "metadata": {},
          "execution_count": 100
        }
      ]
    },
    {
      "cell_type": "code",
      "source": [
        "y_pre = model.predict(X_test)"
      ],
      "metadata": {
        "colab": {
          "base_uri": "https://localhost:8080/"
        },
        "id": "b2C-tHk97oXC",
        "outputId": "2c373895-93c3-40f7-d008-3253fbadc520"
      },
      "execution_count": 109,
      "outputs": [
        {
          "output_type": "stream",
          "name": "stdout",
          "text": [
            "313/313 [==============================] - 1s 4ms/step\n"
          ]
        }
      ]
    },
    {
      "cell_type": "code",
      "source": [
        "from typing import Optional\n",
        "def plt_show(x_data: np.ndarray, y_data: np.ndarray, y_pre: Optional[np.ndarray] = None) -> None:\n",
        "    nrow, ncol = 2, 4\n",
        "    fig, axes = plt.subplots(nrow, ncol, figsize=(8, 4))\n",
        "    len_x = x_data.shape[0]\n",
        "\n",
        "    for idx in range(nrow * ncol):\n",
        "        ax = axes[idx // ncol, idx % ncol]\n",
        "        img_idx = random.randint(0, len_x - 1)  # Đảm bảo chỉ số nằm trong giới hạn\n",
        "        ax.imshow(x_data[img_idx], cmap='gray')\n",
        "        ax.set(xticks=[], yticks=[])  # Xóa các ticks\n",
        "\n",
        "        color = 'green'\n",
        "        true_label_str = f\"Đúng: {class_name[y_data[img_idx]]}\"\n",
        "\n",
        "        predicted_label_str = \"\"\n",
        "        if y_pre is not None:\n",
        "            predicted_idx = np.argmax(y_pre[img_idx])\n",
        "            prediction_label = class_name[predicted_idx]\n",
        "            color = 'red' if predicted_idx != y_data[img_idx] else color\n",
        "            predicted_label_str = f\", Dự đoán: {prediction_label}\"\n",
        "\n",
        "        img_title = true_label_str + predicted_label_str\n",
        "        ax.set_xlabel(img_title, color=color, fontsize=12)\n",
        "\n",
        "    plt.tight_layout()\n",
        "    plt.show()\n",
        "\n",
        "# Sử dụng ví dụ (đảm bảo bạn đã định nghĩa class_name, X_test, y_test và y_pre đúng cách)\n",
        "# plt_show(X_test, y_test, y_pre)\n",
        "\n",
        "plt_show(X_test, y_test, y_pre)"
      ],
      "metadata": {
        "colab": {
          "base_uri": "https://localhost:8080/",
          "height": 409
        },
        "id": "ZRzYcTR30nAN",
        "outputId": "baac6439-bc00-43ea-dcda-dc1f24890e94"
      },
      "execution_count": 111,
      "outputs": [
        {
          "output_type": "display_data",
          "data": {
            "text/plain": [
              "<Figure size 800x400 with 8 Axes>"
            ],
            "image/png": "[encoded data removed]"
          },
          "metadata": {}
        }
      ]
    }
  ]
}